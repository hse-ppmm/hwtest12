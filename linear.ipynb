{
 "cells": [
  {
   "cell_type": "code",
   "execution_count": null,
   "metadata": {},
   "outputs": [],
   "source": [
    "import numpy as np\n",
    "import matplotlib\n",
    "import matplotlib.pyplot as plt"
   ]
  },
  {
   "cell_type": "markdown",
   "metadata": {},
   "source": [
    "Воспоминания о загрузке данных\n",
    "-----------------------------------------------------"
   ]
  },
  {
   "cell_type": "code",
   "execution_count": null,
   "metadata": {},
   "outputs": [],
   "source": [
    "import numpy as np\n",
    "\n",
    "names = (\"id\", \"n\", \"Na\", \"Mg\", \"Al\", \"Si\", \"K\", \"Ca\", \"Ba\", \"Fe\", \"Type\")\n",
    "data = np.genfromtxt('glass.csv', delimiter=',', names=names)\n",
    "print(data[0:5])"
   ]
  },
  {
   "cell_type": "code",
   "execution_count": null,
   "metadata": {},
   "outputs": [],
   "source": [
    "import pandas as pd\n",
    "\n",
    "data = pd.read_csv('glass.csv', header=None, names=names, index_col=0)\n",
    "data.head()"
   ]
  },
  {
   "cell_type": "code",
   "execution_count": null,
   "metadata": {},
   "outputs": [],
   "source": [
    "import pandas as pd\n",
    "\n",
    "data = pd.read_csv('concrete.csv')\n",
    "data.head()"
   ]
  },
  {
   "cell_type": "markdown",
   "metadata": {},
   "source": [
    "Воспоминания о работе с массивами `numpy`\n",
    "----------------------------------------------------"
   ]
  },
  {
   "cell_type": "code",
   "execution_count": null,
   "metadata": {},
   "outputs": [],
   "source": [
    "import numpy as np"
   ]
  },
  {
   "cell_type": "code",
   "execution_count": null,
   "metadata": {},
   "outputs": [],
   "source": [
    "x = np.array([1,2,3,5,8], dtype=np.float32)\n",
    "print(x)\n",
    "print(x.shape)"
   ]
  },
  {
   "cell_type": "code",
   "execution_count": null,
   "metadata": {},
   "outputs": [],
   "source": [
    "x = np.array([1,2,3,5,8], dtype=np.int8)\n",
    "print(x)\n",
    "print(x.shape)"
   ]
  },
  {
   "cell_type": "code",
   "execution_count": null,
   "metadata": {},
   "outputs": [],
   "source": [
    "x = np.array([[0,-1],[1,0]], dtype=np.float32)\n",
    "print(x)\n",
    "print(x.shape)"
   ]
  },
  {
   "cell_type": "code",
   "execution_count": null,
   "metadata": {},
   "outputs": [],
   "source": [
    "x = np.array([[0,-1],[1,0]], dtype=np.float32)\n",
    "z = np.array([1.0,0], dtype=np.float32)\n",
    "print(x @ z)\n",
    "print(x.dot(z))"
   ]
  },
  {
   "cell_type": "code",
   "execution_count": null,
   "metadata": {},
   "outputs": [],
   "source": [
    "x = np.arange(10)\n",
    "print(x)"
   ]
  },
  {
   "cell_type": "code",
   "execution_count": null,
   "metadata": {},
   "outputs": [],
   "source": [
    "x = np.arange(10, -1, -1)\n",
    "print(x)"
   ]
  },
  {
   "cell_type": "code",
   "execution_count": null,
   "metadata": {},
   "outputs": [],
   "source": [
    "x = np.linspace(0, 2, 7)\n",
    "print(x)"
   ]
  },
  {
   "cell_type": "code",
   "execution_count": null,
   "metadata": {},
   "outputs": [],
   "source": [
    "z = np.zeros((3, 2), dtype=np.float32)\n",
    "print(z)\n",
    "print()\n",
    "\n",
    "o = np.ones((3, 2), dtype=np.float32)\n",
    "print(o)\n",
    "print()\n",
    "\n",
    "t = np.full(z.shape, 2, dtype=np.float32)\n",
    "print(t)\n",
    "print()\n",
    "\n",
    "t = np.full_like(z, 2, dtype=np.float32)\n",
    "print(t)"
   ]
  },
  {
   "cell_type": "markdown",
   "metadata": {},
   "source": [
    "### Размерности массива"
   ]
  },
  {
   "cell_type": "code",
   "execution_count": null,
   "metadata": {},
   "outputs": [],
   "source": [
    "x = np.arange(24)\n",
    "print(x)\n",
    "print(x.shape)\n",
    "print()\n",
    "\n",
    "x = x.reshape(4,6)\n",
    "print(x)\n",
    "print(x.shape)\n",
    "print()\n",
    "\n",
    "x = x.reshape(2,3,4)\n",
    "print(x)\n",
    "print(x.shape)\n",
    "print()"
   ]
  },
  {
   "cell_type": "code",
   "execution_count": null,
   "metadata": {},
   "outputs": [],
   "source": [
    "x = np.arange(5)\n",
    "print(x)\n",
    "print(x.shape)\n",
    "print()\n",
    "\n",
    "x = x.reshape(5,1)\n",
    "print(x)\n",
    "print(x.shape)\n",
    "print()\n",
    "\n",
    "x = x.reshape(1,5)\n",
    "print(x)\n",
    "print(x.shape)\n",
    "print()"
   ]
  },
  {
   "cell_type": "code",
   "execution_count": null,
   "metadata": {},
   "outputs": [],
   "source": [
    "x = np.arange(10)\n",
    "print(x)\n",
    "print(x.shape)\n",
    "print()\n",
    "\n",
    "x = x.reshape(-1,1)\n",
    "print(x)\n",
    "print(x.shape)\n",
    "print()\n",
    "\n",
    "x = x.reshape(-1,2)\n",
    "print(x)\n",
    "print(x.shape)\n",
    "print()"
   ]
  },
  {
   "cell_type": "code",
   "execution_count": null,
   "metadata": {},
   "outputs": [],
   "source": [
    "x = np.array([[1,2,3],[3,4,5]])\n",
    "z = np.array([-1,0,2])\n",
    "print(x)\n",
    "print(z)\n",
    "print()\n",
    "print(x * z)\n",
    "print()\n",
    "\n",
    "x = np.array([[1],[2],[3]])\n",
    "print(x)\n",
    "print(z)\n",
    "print()\n",
    "print(x * z)\n",
    "\n",
    "print(np.broadcast(x, z).shape)"
   ]
  },
  {
   "cell_type": "markdown",
   "metadata": {},
   "source": [
    "### Срезы"
   ]
  },
  {
   "cell_type": "code",
   "execution_count": null,
   "metadata": {},
   "outputs": [],
   "source": [
    "#x = np.linspace(0, 48, 16)\n",
    "x = np.arange(16)\n",
    "print(x)\n",
    "print()\n",
    "print(\"1.  x[1]        = {}\".format(x[1]))\n",
    "print(\"2.  x[-2]       = {}\".format(x[-2]))\n",
    "print(\"3.  x[2:9]      = {}\".format(x[2:9]))\n",
    "print(\"4.  x[:9]       = {}\".format(x[:9]))\n",
    "print(\"5.  x[2:]       = {}\".format(x[2:]))\n",
    "print(\"6.  x[:]        = {}\".format(x[:]))\n",
    "print(\"7.  x[2:9:3]    = {}\".format(x[2:9:3]))\n",
    "print(\"8.  x[9:2:-1]   = {}\".format(x[9:2:-1]))\n",
    "print(\"9.  x[::-1]     = {}\".format(x[::-1]))\n",
    "print(\"10. x[:-1]      = {}\".format(x[:-1]))\n",
    "print(\"11. x[-9:-2]    = {}\".format(x[-9:-2]))\n",
    "print(\"12. x[-9:-2:2]  = {}\".format(x[-9:-2:2]))\n",
    "print(\"13. x[-2:-9:-1] = {}\".format(x[-2:-9:-1]))\n",
    "print(\"14. x[-2:-9:-2] = {}\".format(x[-2:-9:-2]))"
   ]
  },
  {
   "cell_type": "code",
   "execution_count": null,
   "metadata": {},
   "outputs": [],
   "source": [
    "x = np.arange(24)\n",
    "x = x.reshape(2,3,4)\n",
    "print(x)\n",
    "print()\n",
    "print(\"1. x[1] =\\n{}\".format(x[1]))\n",
    "print(\"2. x[1,:,:] =\\n{}\".format(x[1,:,:]))\n",
    "print(\"3. x[:,1,:] =\\n{}\".format(x[:,1,:]))\n",
    "print(\"4. x[:,1] =\\n{}\".format(x[:,1]))\n",
    "print(\"5. x[:,:,1] =\\n{}\".format(x[:,:,1]))\n",
    "print(\"6. x[:,:2,:] =\\n{}\".format(x[:,:2,:]))\n",
    "print(\"7. x[:,:,::-1] =\\n{}\".format(x[:,:,::-1]))"
   ]
  },
  {
   "cell_type": "markdown",
   "metadata": {},
   "source": [
    "Воспоминания о работе со случайными числами\n",
    "-------------------------------------------"
   ]
  },
  {
   "cell_type": "code",
   "execution_count": null,
   "metadata": {},
   "outputs": [],
   "source": [
    "import numpy as np\n",
    "import numpy.random"
   ]
  },
  {
   "cell_type": "code",
   "execution_count": null,
   "metadata": {},
   "outputs": [],
   "source": [
    "numpy.random.seed(42)\n",
    "\n",
    "x = numpy.random.normal(2.0, 1.0, 1000)\n",
    "print(x.shape)\n",
    "print(np.mean(x))\n",
    "print(np.var(x))\n",
    "print()\n",
    "\n",
    "x = numpy.random.normal(np.arange(4).reshape(2,2), 1.0, (1000,2,2))\n",
    "print(x.shape)\n",
    "print(np.mean(x, axis=0))\n",
    "print(np.var(x, axis=0))\n",
    "print()\n",
    "\n",
    "x = numpy.random.normal(3.0, 1.0, 10000)\n",
    "_ = plt.hist(x,25)"
   ]
  },
  {
   "cell_type": "code",
   "execution_count": null,
   "metadata": {},
   "outputs": [],
   "source": [
    "numpy.random.seed(42)\n",
    "\n",
    "x = numpy.random.poisson(6.0, 10000)\n",
    "print(np.mean(x))\n",
    "print(np.var(x))"
   ]
  },
  {
   "cell_type": "markdown",
   "metadata": {},
   "source": [
    "Метод наименьших квадратов\n",
    "=========================="
   ]
  },
  {
   "cell_type": "markdown",
   "metadata": {},
   "source": [
    "**Задание 1.1**\n",
    "\n",
    "Дан вектор `x` с равномерной сеткой значений от `0.0` до `10.0`, а так же константы `a` и `b`. В вектор `y` запишите реализацию случайного вектора удовлетворяющего следующему соотношению:\n",
    "\n",
    "$$y_i = a  x_i + b + \\epsilon_i,$$\n",
    "\n",
    "где $\\epsilon_i$ - независимые нормальные случайные величины с нулевым средним и стандартным отклонением $\\sigma=2$.\n",
    "\n",
    "Постройте график зависимости $y_i$ от $x_i$."
   ]
  },
  {
   "cell_type": "code",
   "execution_count": null,
   "metadata": {},
   "outputs": [],
   "source": [
    "numpy.random.seed(42)\n",
    "\n",
    "x = np.linspace(0, 10, 50)\n",
    "a, b = 2.5, 5.25\n",
    "y = ## формулу записать сюда\n",
    "\n",
    "plt.scatter(x,y)"
   ]
  },
  {
   "cell_type": "markdown",
   "metadata": {},
   "source": [
    "**Задание 1.2**\n",
    "\n",
    "Используя вектора `x` и `y` из предыдущего задания и формулы метода наименьших квадратов из лекций, найдите оценки констант `a` и `b` для линейной модели.\n",
    "\n",
    "Для этого используйте матричный формализм и векторные операции. Вычислите чему равна матрица задачи `A`. Для решения системы линейных алгебраических уравнений\n",
    "\n",
    "$$(A^T A)\\theta = A^T {\\bf y}$$\n",
    "\n",
    "используйте метод `np.linalg.solve`.\n",
    "Вычислите квадрат нормы вектора невязки используя метод `np.linalg.norm`. С его помощью вычислите ковариационную матрицу вектора параметров $\\theta$:\n",
    "\n",
    "$$\\Sigma = \\frac{(A^T A)^{-1} \\left|\\left|{\\bf y} - A{\\bf x}\\right|\\right|^2}{n -m},$$\n",
    "\n",
    "где $n$ - количество измерений, $m$ - количество параметров модели. Для обращения матрицы можно использовать метод `np.linalg.inv`.\n",
    "\n",
    "Нанесите на график данные и модельную прямую линию."
   ]
  },
  {
   "cell_type": "code",
   "execution_count": null,
   "metadata": {},
   "outputs": [],
   "source": [
    "import numpy.linalg\n",
    "\n",
    "A = # матрица задачи\n",
    "theta = # оценка векторов параметров\n",
    "res = # квадрат нормы вектора невызки\n",
    "theta_err = # ковариационная матрица\n",
    "predicted = # модельные значения y для сетки x\n",
    "plt.scatter(x,y)\n",
    "plt.plot(x, predicted, color='red')\n",
    "print(\"a = {} +- {}\".format(theta[0], np.sqrt(theta_err[0,0])))\n",
    "print(\"b = {} +- {}\".format(theta[1], np.sqrt(theta_err[1,1])))"
   ]
  },
  {
   "cell_type": "code",
   "execution_count": null,
   "metadata": {},
   "outputs": [],
   "source": [
    "theta, res, _, _ = numpy.linalg.lstsq(A, y, rcond=None)\n",
    "print(theta)"
   ]
  },
  {
   "cell_type": "code",
   "execution_count": null,
   "metadata": {},
   "outputs": [],
   "source": [
    "import scipy\n",
    "import scipy.linalg\n",
    "\n",
    "theta, res, _, _ = scipy.linalg.lstsq(A, y)\n",
    "print(theta)"
   ]
  },
  {
   "cell_type": "code",
   "execution_count": null,
   "metadata": {},
   "outputs": [],
   "source": [
    "import sklearn\n",
    "import sklearn.linear_model\n",
    "\n",
    "r = sklearn.linear_model.LinearRegression()\n",
    "r.fit(x.reshape(-1,1), y.reshape(-1,1))\n",
    "predicted = r.predict(x.reshape(-1,1))\n",
    "plt.scatter(x,y)\n",
    "plt.plot(x, predicted, color='red')\n",
    "print(np.hstack([r.coef_,[r.intercept_,]]))"
   ]
  },
  {
   "cell_type": "code",
   "execution_count": null,
   "metadata": {},
   "outputs": [],
   "source": [
    "import statsmodels.api as sm\n",
    "\n",
    "mod = sm.OLS(y, sm.add_constant(x))\n",
    "res = mod.fit()\n",
    "print(res.summary())"
   ]
  },
  {
   "cell_type": "markdown",
   "metadata": {},
   "source": [
    "**Задание 1.3**\n",
    "\n",
    "В файле `glass.csv` хранится таблица в формате CSV, содержащая данные о химическом составе и показателе преломления $n$ нескольких марок стекла. Используя `pandas`, или любой удобный вам способ, загрузите эти данные и сформируйте массив `x` с \"фичами\" (содержанием каждого из девяти химических элементов в каждой марке стекла) и массив `y` содержащий значение показателя преломления $n$.\n",
    "\n",
    "За отстутсвием луших идей будем считать, что для описания зависимости $n$ от химического состава можно использовать линейную модель. С использованием метода `sklearn.model_selection.train_test_split` раделите данные на учебную и тестовую выборки. Используя класс `sklearn.linear_model.LinearRegression` постройте линейную модель для описания зависимости.\n",
    "Подсчитайте среднеквадратичное отклонение модели для тестовой выборки и распечатайте его.\n",
    "Постройте график зависимости истинного значения $n$ от предсказанного модельню значения $n$ для тестовой выборки."
   ]
  },
  {
   "cell_type": "code",
   "execution_count": null,
   "metadata": {
    "scrolled": true
   },
   "outputs": [],
   "source": [
    "import pandas as pd\n",
    "from sklearn.model_selection import train_test_split\n",
    "from sklearn.metrics import mean_squared_error\n",
    "\n",
    "names = (\"id\", \"n\", \"Na\", \"Mg\", \"Al\", \"Si\", \"K\", \"Ca\", \"Ba\", \"Fe\", \"Type\")\n",
    "\n",
    "x = # фичи\n",
    "y = # показатель преломления\n",
    "\n",
    "x_train, x_test, y_train, y_test = train_test_split(x, y, random_state=42)\n",
    "\n",
    "mse_test = # квадратный корень из среднего квадрата ошибки модели на тестовой выборке\n",
    "\n",
    "plt.scatter(y_test, y_test_pred)\n",
    "plt.xlabel(\"True\")\n",
    "plt.ylabel(\"Predicted\")\n",
    "_ = plt.axis('equal')"
   ]
  },
  {
   "cell_type": "markdown",
   "metadata": {},
   "source": [
    "### Представление о плохо обусловленных и некорректных задачах"
   ]
  },
  {
   "cell_type": "markdown",
   "metadata": {},
   "source": [
    "$$\\alpha x^2 + \\beta y^2 = 1$$"
   ]
  },
  {
   "cell_type": "code",
   "execution_count": null,
   "metadata": {},
   "outputs": [],
   "source": [
    "from matplotlib.patches import Ellipse\n",
    "\n",
    "def fit_ellipse(x, plot = False):\n",
    "    X = x**2\n",
    "    cond = numpy.linalg.cond(X)\n",
    "    \n",
    "    r = sklearn.linear_model.LinearRegression(fit_intercept=False)\n",
    "    r.fit(X, np.ones((x.shape[0],1)))\n",
    "    \n",
    "    theta = np.asarray(r.coef_).reshape(-1)\n",
    "    width, height = 2 * numpy.power(theta, np.full_like(theta, -0.5), out=np.full_like(theta, np.nan), where=theta>0)\n",
    "    \n",
    "    if plot:\n",
    "        ellipse = Ellipse((0, 0), width=width, height=height, fill=False, edgecolor='red')\n",
    "        plt.scatter(*x.T)\n",
    "        plt.xlim(-2.5,2.5)\n",
    "        plt.ylim(-2.5,2.5)\n",
    "        plt.axis('equal')\n",
    "        ax = plt.gca()\n",
    "        ax.add_patch(ellipse)\n",
    "    \n",
    "    return width, height, cond\n",
    "\n",
    "def generate_ellipse(phi, width, height, size):\n",
    "    x = np.vstack([width / 2 * np.cos(phi), height / 2 * np.sin(phi)]).T\n",
    "    X = x + np.random.normal(0.0, 0.0125, (size,*x.shape))\n",
    "    return X\n",
    "    "
   ]
  },
  {
   "cell_type": "code",
   "execution_count": null,
   "metadata": {},
   "outputs": [],
   "source": [
    "numpy.random.seed(42)\n",
    "\n",
    "width = 2.0\n",
    "height = 4.0\n",
    "\n",
    "lim = 7.5 / 180.0 * np.pi\n",
    "phi = np.linspace(-lim,lim,4)\n",
    "X = generate_ellipse(phi, width, height, 1000)\n",
    "\n",
    "fit_ellipse(X[1], True)\n",
    "fit_ellipse(X[3], True)\n",
    "\n",
    "r = np.array([fit_ellipse(X[i]) for i in range(X.shape[0])])\n",
    "print(np.nanmean(r, axis=0))\n",
    "print(np.nanstd(r, axis=0))"
   ]
  },
  {
   "cell_type": "code",
   "execution_count": null,
   "metadata": {},
   "outputs": [],
   "source": [
    "lim = 7.5 / 180.0 * np.pi\n",
    "phi = np.linspace(-lim,lim,4)\n",
    "phi = np.concatenate([phi, [1.5,]])\n",
    "X = generate_ellipse(phi, width, height, 1000)\n",
    "\n",
    "fit_ellipse(X[1], True)\n",
    "fit_ellipse(X[3], True)\n",
    "\n",
    "r = np.array([fit_ellipse(X[i]) for i in range(X.shape[0])])\n",
    "print(np.nanmean(r, axis=0))\n",
    "print(np.nanstd(r, axis=0))"
   ]
  },
  {
   "cell_type": "markdown",
   "metadata": {},
   "source": [
    "### Представление о регуляризации"
   ]
  },
  {
   "cell_type": "markdown",
   "metadata": {},
   "source": [
    "Пусть нам кто-то сказал, что искомый эллипс очень похож на единичный круг:\n",
    "\n",
    "$$\\Delta \\alpha x^2 + \\Delta \\beta y^2 = 1 - x^2 - y^2,$$\n",
    "\n",
    "тогда $\\Delta \\alpha^2 + \\Delta \\beta^2 \\rightarrow 0$."
   ]
  },
  {
   "cell_type": "code",
   "execution_count": null,
   "metadata": {},
   "outputs": [],
   "source": [
    "def fit_ellipse2(x, alpha, plot = False):\n",
    "    X = x**2\n",
    "    cond = numpy.linalg.cond(X)\n",
    "    y = (1.0 - np.sum(x**2, axis=1)).reshape(-1)\n",
    "\n",
    "    r = sklearn.linear_model.Ridge(fit_intercept=False, alpha=alpha)\n",
    "    r.fit(X, y)\n",
    "    \n",
    "    theta = np.asarray(r.coef_).reshape(-1)\n",
    "    width, height = 2 * numpy.power(theta + 1.0, np.full_like(theta, -0.5), out=np.full_like(theta, np.nan), where=theta>-1.0)\n",
    "    \n",
    "    if plot:\n",
    "        ellipse = Ellipse((0, 0), width=width, height=height, fill=False, edgecolor='red')\n",
    "        plt.scatter(*x.T)\n",
    "        plt.xlim(-2.5,2.5)\n",
    "        plt.ylim(-2.5,2.5)\n",
    "        plt.axis('equal')\n",
    "        ax = plt.gca()\n",
    "        ax.add_patch(ellipse)\n",
    "    \n",
    "    return width, height, cond"
   ]
  },
  {
   "cell_type": "code",
   "execution_count": null,
   "metadata": {},
   "outputs": [],
   "source": [
    "lim = 7.5 / 180.0 * np.pi\n",
    "phi = np.linspace(-lim,lim,4)\n",
    "X = generate_ellipse(phi, width, height, 1000)\n",
    "alpha = np.geomspace(1e-6, 1e+3, 10)\n",
    "\n",
    "for x in alpha:\n",
    "    r = np.array([fit_ellipse2(X[i], x) for i in range(X.shape[0])])\n",
    "    print(\"alpha = {}\".format(x))\n",
    "    print(np.nanmean(r, axis=0))\n",
    "    print(np.nanstd(r, axis=0))\n",
    "    print()"
   ]
  },
  {
   "cell_type": "markdown",
   "metadata": {},
   "source": [
    "**Задание 1.4** Логистическая регрессия.\n",
    "\n",
    "В файле `magic04.csv` в формате `CSV` хранятся предварительно обработанные измерения эксперимента по ловле космического излучения в земной атмосфере с помощью излучения Черенкова. Используя `pandas`, или любой удобный вам способ, загрузите эти данные и сформируйте массив `x` с \"фичами\" (все которые найдутся в файле: это характеристики изображений, оставляемых отдельными событиями, на панорамном приемнике, такие как его размер, эллиптичность, и прочее...), и массив `y`, содержащий текстовый признак частицы: `\"g\"` - гамма квант, `\"h\"` - адрон.\n",
    "\n",
    "Используя класс `sklearn.linear_model.LogisticRegression` постройте классификатор типа частицы по изображению с детектора.\n",
    "\n",
    "С помощью обученной модели проделайте следующее:\n",
    "* с помощью метода `sklearn.metrics.confusion_matrix` постройте матрицу ошибок (confusion matrix),\n",
    "* рассчитайте AUC и постройте график ROC. вам помогут методы `sklearn.metrics.roc_curve`, `sklearn.metrics.roc_auc_score`, и метод `decision_function` объекта модели."
   ]
  },
  {
   "cell_type": "code",
   "execution_count": null,
   "metadata": {},
   "outputs": [],
   "source": [
    "from sklearn.linear_model import LogisticRegression\n",
    "from sklearn.model_selection import train_test_split\n",
    "import sklearn.metrics\n",
    "import pandas as pd\n",
    "\n",
    "names = [\"length\", \"width\", \"size\", \"conc\", \"conc1\", \"asym\", \"m3long\", \"m3trans\", \"alpha\", \"dist\", \"class\"]\n",
    "\n",
    "x = # фичи\n",
    "y = # класс\n",
    "\n",
    "x_train, x_test, y_train, y_test = train_test_split(x, y, random_state=42)\n",
    "\n",
    "y_test_scores = # ?\n",
    "fpr, tpr, _ = sklearn.metrics.roc_curve(y_test, y_test_scores, pos_label=c.classes_[-1])\n",
    "auc = # AUC?\n",
    "print(auc)\n",
    "\n",
    "plt.plot(fpr, tpr)\n",
    "plt.xlabel(\"False positive rate\")\n",
    "plt.ylabel(\"True positive rate\")"
   ]
  },
  {
   "cell_type": "markdown",
   "metadata": {},
   "source": [
    "Метод максимального правдоподобия\n",
    "------------------------------------------------------------"
   ]
  },
  {
   "cell_type": "code",
   "execution_count": null,
   "metadata": {},
   "outputs": [],
   "source": [
    "numpy.random.seed(42)\n",
    "x = numpy.random.normal(1.5, 0.25, 1000)\n",
    "\n",
    "mu_estimate = x.sum() / x.shape[0]\n",
    "sigma2_estimate = ((x - mu_estimate)**2).sum() / x.shape[0]\n",
    "\n",
    "mu_estimate, np.sqrt(sigma2_estimate)"
   ]
  },
  {
   "cell_type": "markdown",
   "metadata": {},
   "source": [
    "**Задание 1.5**\n",
    "\n",
    "По аналогии с предыдущей ячейкой, сгенерируйте вектор `x` из $1000$ реализаций случайной величины, распределенной согласно закону Пуассона с параметром $\\lambda = 2.45$.\n",
    "Используя формулу распределения Пуассона, а так же знания полученные на лекции, получите формулу оценки параметра $\\lambda$ для выборки независимых величин. Рассчитайте по этой формуле значение оценки $\\lambda$."
   ]
  },
  {
   "cell_type": "code",
   "execution_count": null,
   "metadata": {},
   "outputs": [],
   "source": [
    "numpy.random.seed(42)\n",
    "x = # выборка случайной величины\n",
    "\n",
    "lambda_estimate = # оценка параметра\n",
    "\n",
    "lambda_estimate"
   ]
  },
  {
   "cell_type": "markdown",
   "metadata": {},
   "source": [
    "**Задание 1.6**\n",
    "\n",
    "Аналогично предыдущему заданию, сгенерируйте вектор `x` для лог-нормального распределения, с параметрами $\\mu=1.5$, $\\sigma=0.25$. Аналитически получите формулы оценок этих параметров по методу максимального правдоподобия, а затем проверьте себя вычислив числовые значения оценок параметров $\\mu$ и $\\sigma$."
   ]
  },
  {
   "cell_type": "code",
   "execution_count": null,
   "metadata": {},
   "outputs": [],
   "source": [
    "numpy.random.seed(42)\n",
    "x = # выборка случайной величины\n",
    "\n",
    "mu_estimate = # оценки\n",
    "sigma2_estimate = # параметров\n",
    "\n",
    "mu_estimate, np.sqrt(sigma2_estimate)"
   ]
  },
  {
   "cell_type": "code",
   "execution_count": null,
   "metadata": {},
   "outputs": [],
   "source": [
    "numpy.random.seed(42)\n",
    "x = np.random.multivariate_normal([0.0, 0.0], [[1.0, 0.75],[0.75, 1.0]], 1000)\n",
    "plt.plot(*x.T,'*')\n",
    "\n",
    "mu_estimate = np.sum(x, axis=0) / x.shape[0]\n",
    "dx = x - mu_estimate\n",
    "sigma_estimate = np.tensordot(dx, dx, [0, 0]) / x.shape[0]\n",
    "\n",
    "mu_estimate, sigma_estimate"
   ]
  },
  {
   "cell_type": "markdown",
   "metadata": {},
   "source": [
    "### Линейные модели авторегрессии скользящего среднего"
   ]
  },
  {
   "cell_type": "code",
   "execution_count": null,
   "metadata": {},
   "outputs": [],
   "source": [
    "import statsmodels.api as sm\n",
    "from statsmodels import tsa\n",
    "from statsmodels.tsa.statespace import sarimax\n",
    "from statsmodels.graphics import tsaplots\n",
    "from statsmodels.graphics import gofplots\n",
    "from scipy.stats import boxcox\n",
    "\n",
    "data = pd.read_csv('sunspots.csv')\n",
    "x = np.asarray(data['YEAR']).reshape(-1,1)\n",
    "y = np.asarray(data['SUNACTIVITY']).reshape(-1,1)\n",
    "\n",
    "plt.plot(x, y)\n",
    "plt.xlabel(\"Year\")\n",
    "plt.ylabel(\"Activity index\")\n",
    "plt.title(\"Solar activity\")\n",
    "plt.tight_layout()"
   ]
  },
  {
   "cell_type": "code",
   "execution_count": null,
   "metadata": {},
   "outputs": [],
   "source": [
    "plt.figure()\n",
    "gofplots.qqplot(y.reshape(-1), fit=True, line='45')\n",
    "plt.axis('equal')\n",
    "\n",
    "plt.figure()\n",
    "y_log = boxcox(y+1, 0)\n",
    "gofplots.qqplot(y_log.reshape(-1), fit=True, line='45')\n",
    "_ = plt.axis('equal')\n",
    "\n",
    "plt.figure()\n",
    "y_1 = boxcox(y+1, 0.5)\n",
    "gofplots.qqplot(y_1.reshape(-1), fit=True, line='45')\n",
    "_ = plt.axis('equal')"
   ]
  },
  {
   "cell_type": "code",
   "execution_count": null,
   "metadata": {},
   "outputs": [],
   "source": [
    "tsaplots.plot_acf(y_log, lags=np.arange(50))\n",
    "_ = tsaplots.plot_pacf(y_log, lags=np.arange(50))"
   ]
  },
  {
   "cell_type": "code",
   "execution_count": null,
   "metadata": {},
   "outputs": [],
   "source": [
    "arma_mod20 = sm.tsa.arima.ARIMA(y_log, order=(2,0,0)).fit()\n",
    "print(arma_mod20.summary())\n",
    "\n",
    "arma_mod30 = sm.tsa.arima.ARIMA(y_log, order=(3,0,0)).fit()\n",
    "print(arma_mod30.summary())\n",
    "\n",
    "arma_mods11 = sm.tsa.arima.ARIMA(y_log, order=(3,0,0), seasonal_order=(1,0,0,11)).fit()\n",
    "print(arma_mods11.summary())"
   ]
  },
  {
   "cell_type": "code",
   "execution_count": null,
   "metadata": {},
   "outputs": [],
   "source": [
    "plt.figure()\n",
    "tsaplots.plot_acf(arma_mod20.resid, lags=np.arange(50))\n",
    "\n",
    "plt.figure()\n",
    "_ = tsaplots.plot_acf(arma_mod30.resid, lags=np.arange(50))\n",
    "\n",
    "plt.figure()\n",
    "_ = tsaplots.plot_acf(arma_mods11.resid, lags=np.arange(50))"
   ]
  },
  {
   "cell_type": "code",
   "execution_count": null,
   "metadata": {},
   "outputs": [],
   "source": [
    "n_forecast = 40\n",
    "x_pred = np.arange(x[-1], x[-1] + n_forecast)\n",
    "y_pred_20 = arma_mod20.predict(len(x), len(x) + n_forecast - 1)\n",
    "y_pred_s = arma_mods11.predict(len(x), len(x) + n_forecast - 1)\n",
    "\n",
    "plt.plot(x, y_log)\n",
    "plt.plot(x_pred, y_pred_20)\n",
    "plt.plot(x_pred, y_pred_s)\n",
    "plt.xlabel(\"Year\")\n",
    "plt.ylabel(\"Activity index\")\n",
    "plt.title(\"Solar activity\")\n",
    "plt.tight_layout()\n",
    "plt.show()"
   ]
  },
  {
   "cell_type": "markdown",
   "metadata": {},
   "source": [
    "**Задание 1.7**\n",
    "\n",
    "Используя данные о солнечной активности из файла `sunspots.csv` (по аналогии с предыдущими ячейками), найдите наиболее подходящую модель семейства ARIMA, опираясь на принцип максимального правдоподобия при сравнении моделей.\n",
    "* Руководствуясь принципом простоты, количество параметров модели не должно превышать 12\n",
    "* Попробуйте применить различные преобразования из семейства Бокса-Кокса перед обучением модели\n",
    "\n",
    "Для найденной модели постройте график АКФ невязок, распечатайте `summary()`, и постройте график прогноза на ближайшие 40 точек в будущее.\n",
    "\n",
    "*Бонусные баллы* полагаются тому, кто найдет удовлетворяющую условиям модель с наибольшим правдоподобием среди всей группы."
   ]
  },
  {
   "cell_type": "markdown",
   "metadata": {},
   "source": [
    "### Гауссовы процессы"
   ]
  },
  {
   "cell_type": "markdown",
   "metadata": {},
   "source": [
    "**Задание 1.8**\n",
    "\n",
    "Ниже приведен пример кода использования гауссовых процессов для моделирования временных рядов. Используются всё те же данные солнечной активности. В этом задании можно получить *бонусные баллы*, для этого надо подобрать ядро преобразования `kernel` в примере таким образом, чтобы среднеквадратичная ошибка модели на тестовой выборке (посление 100 отсчетов по времени), стала лучше всех в группе."
   ]
  },
  {
   "cell_type": "code",
   "execution_count": null,
   "metadata": {},
   "outputs": [],
   "source": [
    "import pandas as pd\n",
    "from sklearn.gaussian_process import GaussianProcessRegressor\n",
    "from sklearn.gaussian_process.kernels import RBF, WhiteKernel, RationalQuadratic, ExpSineSquared\n",
    "\n",
    "data = pd.read_csv('sunspots.csv')\n",
    "x = np.asarray(data['YEAR']).reshape(-1,1)\n",
    "y = np.log(np.asarray(data['SUNACTIVITY']) + 1).reshape(-1,1)\n",
    "\n",
    "x_train = x[:-100]\n",
    "y_train = y[:-100]\n",
    "x_test = x[-100:]\n",
    "y_test = y[-100:]\n",
    "\n",
    "kernel = 1 * ExpSineSquared(length_scale=2, periodicity=22, periodicity_bounds=(20,25)) + WhiteKernel()\n",
    "gp = GaussianProcessRegressor(kernel=kernel, normalize_y=True)\n",
    "gp.fit(x_train, y_train)\n",
    "y_pred, y_std = gp.predict(x_test, return_std=True)\n",
    "y_pred_lo = y_pred.reshape(-1) - y_std\n",
    "y_pred_hi = y_pred.reshape(-1) + y_std\n",
    "\n",
    "print(\"Kernel: {}\".format(gp.kernel_))\n",
    "\n",
    "plt.plot(x, y)\n",
    "plt.plot(x_test, y_pred, color='red')\n",
    "plt.fill_between(x_test.reshape(-1), y_pred_lo, y_pred_hi, alpha=0.3, color='red')\n",
    "plt.xlabel(\"Year\")\n",
    "plt.ylabel(\"Activity index\")\n",
    "plt.title(\"Solar activity\")\n",
    "plt.tight_layout()\n",
    "plt.show()\n",
    "\n",
    "np.sqrt(mean_squared_error(y_test, y_pred))"
   ]
  },
  {
   "cell_type": "code",
   "execution_count": null,
   "metadata": {},
   "outputs": [],
   "source": [
    "x_train, x_test, y_train, y_test = train_test_split(x, y, random_state=42)\n",
    "\n",
    "kernel = 1 * RBF() + 1 * ExpSineSquared(periodicity=11) + WhiteKernel()\n",
    "gp = GaussianProcessRegressor(kernel=kernel, normalize_y=True)\n",
    "gp.fit(x_train, y_train)\n",
    "y_pred, y_std = gp.predict(x_test, return_std=True)\n",
    "y_pred_lo = y_pred.reshape(-1) - y_std\n",
    "y_pred_hi = y_pred.reshape(-1) + y_std\n",
    "\n",
    "print(\"Kernel: {}\".format(gp.kernel_))\n",
    "\n",
    "plt.plot(x, y, '-')\n",
    "plt.plot(x_test, y_pred, '*', color='red')\n",
    "plt.xlabel(\"Year\")\n",
    "plt.ylabel(\"Activity index\")\n",
    "plt.title(\"Solar activity\")\n",
    "plt.tight_layout()\n",
    "plt.show()\n",
    "\n",
    "np.sqrt(mean_squared_error(y_test, y_pred))"
   ]
  },
  {
   "cell_type": "markdown",
   "metadata": {},
   "source": [
    "**Задание 1.9**\n",
    "\n",
    "В файле `forestfires.csv` в формате CSV, находятся данные о лесных пожарах в некотором заповеднике.\n",
    "Ваша задача состоит в том, чтобы попробовать построить зависимость мощности пожара (выгоревшей площади `area`), от условной координаты парка (колонки `X` и `Y`).\n",
    "Неплохой идеей кажется использовать для моделирования двумерные гауссовы процессы, т.к. ожидается корреляция между соседними в пространстве областями.\n",
    "\n",
    "Загрузите данные из файла: в вектор `x` колоки `X` и `Y`, в вектор `y` загрузите величину $\\log(\\mathtt{\"area\"} + 1)$\n",
    "\n",
    "Используя класс `sklearn.gaussian_process.GaussianProcessRegressor`, постройте модель. Подберите ядро самостоятельно.\n",
    "\n",
    "*Бонусные баллы* полагаются за наилучшую модель. Эффективность модели измеряется среднеквадратичной ошибкой на тестовой выборке."
   ]
  },
  {
   "cell_type": "code",
   "execution_count": null,
   "metadata": {},
   "outputs": [],
   "source": [
    "x = # матрица из колонок X, Y\n",
    "y = # np.asarray(np.log(data['area'] + 1))\n",
    "\n",
    "np.sqrt(mean_squared_error(y_test, y_pred))"
   ]
  },
  {
   "cell_type": "code",
   "execution_count": null,
   "metadata": {},
   "outputs": [],
   "source": []
  }
 ],
 "metadata": {
  "kernelspec": {
   "display_name": "Python 3",
   "language": "python",
   "name": "python3"
  },
  "language_info": {
   "codemirror_mode": {
    "name": "ipython",
    "version": 3
   },
   "file_extension": ".py",
   "mimetype": "text/x-python",
   "name": "python",
   "nbconvert_exporter": "python",
   "pygments_lexer": "ipython3",
   "version": "3.6.10"
  }
 },
 "nbformat": 4,
 "nbformat_minor": 2
}
